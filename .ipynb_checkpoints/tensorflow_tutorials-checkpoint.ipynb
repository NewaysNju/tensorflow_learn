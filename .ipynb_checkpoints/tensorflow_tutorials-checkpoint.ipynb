{
 "cells": [
  {
   "cell_type": "markdown",
   "metadata": {},
   "source": [
    "## 总领"
   ]
  },
  {
   "cell_type": "markdown",
   "metadata": {},
   "source": [
    "1. 使用图(Graph)表示计算任务  \n",
    "2. 会话（Session）的上下文中执行图\n",
    "3. 使用tensor表示数据\n",
    "4. 通过变量（Variable）维护状态\n",
    "5. 使用feed和fetch为任意操作赋值或者从其中获取数据"
   ]
  },
  {
   "cell_type": "markdown",
   "metadata": {},
   "source": [
    "tensorflow图描述计算过程，为了进行计算，图必须在会话中启动，图中的节点为op,会话将图的op分发到CPU或GPU等设备上，同时执行op.  \n",
    "一个Op获得0个或多个Tensor，每个Tensor是多维数组，是numpy.ndarray."
   ]
  },
  {
   "cell_type": "markdown",
   "metadata": {},
   "source": [
    "### 构建图\n",
    "创建源op，输出传入其他op做运算\n",
    "例子：构建三个op,分别是两个constant() op与一个matmul()op"
   ]
  },
  {
   "cell_type": "code",
   "execution_count": 1,
   "metadata": {
    "collapsed": true
   },
   "outputs": [],
   "source": [
    "import tensorflow as tf\n",
    "matrix1 = tf.constant([[3,3]])\n",
    "matrix2 = tf.constant([[2],[2]])\n",
    "product = tf.matmul(matrix1,matrix2)"
   ]
  },
  {
   "cell_type": "markdown",
   "metadata": {},
   "source": [
    "### 在一个会话中启动图\n",
    "首先创建Session对象，如果无任何创建参数，默认启动默认图（Default Graph）  \n",
    "执行过程是自动化的，会话负责传递op所需要的全部输入，op通常是并发执行，会触发全过程"
   ]
  },
  {
   "cell_type": "code",
   "execution_count": 2,
   "metadata": {
    "collapsed": false
   },
   "outputs": [
    {
     "name": "stdout",
     "output_type": "stream",
     "text": [
      "[[12]]\n"
     ]
    }
   ],
   "source": [
    "sess = tf.Session()\n",
    "result = sess.run(product)\n",
    "print(result)\n",
    "sess.close()"
   ]
  },
  {
   "cell_type": "code",
   "execution_count": 3,
   "metadata": {
    "collapsed": false
   },
   "outputs": [
    {
     "name": "stdout",
     "output_type": "stream",
     "text": [
      "[[12]]\n"
     ]
    }
   ],
   "source": [
    "# 等价方法：\n",
    "with tf.Session() as sess:\n",
    "    result = sess.run(product)\n",
    "    print(result)"
   ]
  },
  {
   "cell_type": "markdown",
   "metadata": {},
   "source": [
    "指定cpu还是gpu资源\n",
    "* \"/cpu:0\":调用cpu\n",
    "* \"/gpu:0\":调用第一个GPU\n",
    "* \"/gpu:1\":调用第二个GPU"
   ]
  },
  {
   "cell_type": "markdown",
   "metadata": {},
   "source": [
    "默认有GPU先用GPU，但是只默认使用一个GPU，如果有多个GPU，余下GPU需要自己指派给op"
   ]
  },
  {
   "cell_type": "code",
   "execution_count": 4,
   "metadata": {
    "collapsed": false
   },
   "outputs": [
    {
     "name": "stdout",
     "output_type": "stream",
     "text": [
      "[[12.]]\n"
     ]
    }
   ],
   "source": [
    "with tf.Session() as sess:\n",
    "    with tf.device('/cpu:0'):\n",
    "        matrix1 = tf.constant([[3., 3.]])\n",
    "        matrix2 = tf.constant([[2.],[2.]])\n",
    "        product = tf.matmul(matrix1, matrix2)\n",
    "        result = sess.run(product)\n",
    "        print(result)"
   ]
  },
  {
   "cell_type": "markdown",
   "metadata": {},
   "source": [
    "### 交互式使用，避免Sess单变量持有会话"
   ]
  },
  {
   "cell_type": "code",
   "execution_count": 5,
   "metadata": {
    "collapsed": false
   },
   "outputs": [
    {
     "name": "stdout",
     "output_type": "stream",
     "text": [
      "[-2 -1]\n"
     ]
    }
   ],
   "source": [
    "sess = tf.InteractiveSession()\n",
    "x = tf.Variable([1,2])\n",
    "a = tf.constant([3,3])\n",
    "x.initializer.run()  # 初始化x\n",
    "sub = tf.subtract(x, a)\n",
    "print(sub.eval())"
   ]
  },
  {
   "cell_type": "markdown",
   "metadata": {
    "collapsed": true
   },
   "source": [
    "## Tensor\n",
    "一个tensor包括一个静态类型rank和一个shape  \n",
    "rank是张量的阶数，0：纯量，1:向量，2：矩阵，.....   \n",
    "shape是张量的形状，在每一个维度的长度？\n",
    "数据类型"
   ]
  },
  {
   "cell_type": "markdown",
   "metadata": {},
   "source": [
    "## 变量"
   ]
  },
  {
   "cell_type": "code",
   "execution_count": 8,
   "metadata": {
    "collapsed": false
   },
   "outputs": [
    {
     "name": "stdout",
     "output_type": "stream",
     "text": [
      "0\n",
      "1\n",
      "2\n",
      "3\n"
     ]
    }
   ],
   "source": [
    "# 创建一个变量，初始化为标量 0\n",
    "state = tf.Variable(0, name = 'counter')  # 变量需要初始化，但是可以用assign改值\n",
    "# 创建一个op,其作用是使state增加1\n",
    "one = tf.constant(1)\n",
    "new_values = tf.add(state, one)  # 这是个op\n",
    "update = tf.assign(state, new_values)  # 这他妈也是op\n",
    "\n",
    "# 启动图后，变量必须经过‘初始化' op初始化\n",
    "# 首先必须增加一个‘初始化‘ op到图中\n",
    "init_op = tf.global_variables_initializer()\n",
    "\n",
    "# 启动图， 运行op\n",
    "with tf.Session() as sess:\n",
    "    sess.run(init_op)\n",
    "    print(sess.run(state))\n",
    "    for _ in range(3):\n",
    "        sess.run(update)\n",
    "        print(sess.run(state))"
   ]
  },
  {
   "cell_type": "markdown",
   "metadata": {},
   "source": [
    "## Fetch\n",
    "取回变量，可以一次性取回多个 "
   ]
  },
  {
   "cell_type": "code",
   "execution_count": 17,
   "metadata": {
    "collapsed": false
   },
   "outputs": [
    {
     "name": "stdout",
     "output_type": "stream",
     "text": [
      "[21.0, 7.0]\n"
     ]
    }
   ],
   "source": [
    "input1 = tf.constant(3.0)\n",
    "input2 = tf.constant(2.0)\n",
    "input3 = tf.constant(5.0)\n",
    "intermed = tf.add(input2, input3)\n",
    "mul = tf.multiply(input1, intermed)\n",
    "\n",
    "with tf.Session() as sess:\n",
    "    print(sess.run([mul, intermed]))"
   ]
  },
  {
   "cell_type": "markdown",
   "metadata": {},
   "source": [
    "## Feed\n",
    "feed 使用一个 tensor 值临时替换一个操作的输出结果. 你可以提供 feed 数据作为 run() 调用的参数. feed 只在调用它的方法内有效, 方法结束, feed 就会消失. 最常见的用例是将某些特殊的操作指定为 \"feed\" 操作, 标记的方法是使用 tf.placeholder() 为这些操作创建占位符."
   ]
  },
  {
   "cell_type": "code",
   "execution_count": 21,
   "metadata": {
    "collapsed": false
   },
   "outputs": [
    {
     "name": "stdout",
     "output_type": "stream",
     "text": [
      "[array([14.], dtype=float32)]\n"
     ]
    }
   ],
   "source": [
    "input1 = tf.placeholder(tf.float32)  # 就是个要填数的空变量\n",
    "input2 = tf.placeholder(tf.float32)\n",
    "output = tf.multiply(input1, input2)\n",
    "\n",
    "with tf.Session() as sess:\n",
    "    print(sess.run([output], feed_dict = {input1:[7.], input2: [2.]}))"
   ]
  }
 ],
 "metadata": {
  "kernelspec": {
   "display_name": "Python 3",
   "language": "python",
   "name": "python3"
  },
  "language_info": {
   "codemirror_mode": {
    "name": "ipython",
    "version": 3
   },
   "file_extension": ".py",
   "mimetype": "text/x-python",
   "name": "python",
   "nbconvert_exporter": "python",
   "pygments_lexer": "ipython3",
   "version": "3.6.0"
  }
 },
 "nbformat": 4,
 "nbformat_minor": 2
}
